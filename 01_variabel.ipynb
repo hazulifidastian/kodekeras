{
  "nbformat": 4,
  "nbformat_minor": 0,
  "metadata": {
    "colab": {
      "name": "01_variabel.ipynb",
      "provenance": [],
      "authorship_tag": "ABX9TyOLaWiI/Tcw5AQtKqqjCZ0x"
    },
    "kernelspec": {
      "name": "python3",
      "display_name": "Python 3"
    },
    "language_info": {
      "name": "python"
    }
  },
  "cells": [
    {
      "cell_type": "markdown",
      "metadata": {
        "id": "BuGuAiAGhJHS"
      },
      "source": [
        "29 Juni 2021\n",
        "20.42 s.d 22.30\n",
        "\n",
        "# Variabel\n",
        "\n",
        "Variabel adalah tempat menyimpan data. Lebih detailnya, lokasi pada memori yang dicadangkan untuk menyimpan data."
      ]
    },
    {
      "cell_type": "markdown",
      "metadata": {
        "id": "-EqEM_xYh7BX"
      },
      "source": [
        "## Kenalan dengan Variabel"
      ]
    },
    {
      "cell_type": "markdown",
      "metadata": {
        "id": "sXLKkgN1ioWY"
      },
      "source": [
        "### Membuat Variabel"
      ]
    },
    {
      "cell_type": "code",
      "metadata": {
        "colab": {
          "base_uri": "https://localhost:8080/"
        },
        "id": "o9W4P439XiX5",
        "outputId": "882ef076-ffd9-4182-e9b6-e46087a0ebf8"
      },
      "source": [
        "n = 100\n",
        "nama = 'Justin'\n",
        "umur = 13\n",
        "hobi = 'Nyanyi'\n",
        "\n",
        "print('isi variabel n', n)\n",
        "print('nama:', nama)\n",
        "print('umur:', umur, 'tahun')\n",
        "print('hobi:', hobi)\n"
      ],
      "execution_count": null,
      "outputs": [
        {
          "output_type": "stream",
          "text": [
            "isi variabel n 100\n",
            "nama: Justin\n",
            "umur: 13 tahun\n",
            "hobi: Nyanyi\n"
          ],
          "name": "stdout"
        }
      ]
    },
    {
      "cell_type": "code",
      "metadata": {
        "colab": {
          "base_uri": "https://localhost:8080/"
        },
        "id": "nUfSbPRtYMiE",
        "outputId": "c8bf8349-19d2-489f-c4ab-b29e7e423643"
      },
      "source": [
        "nama_depan, nama_belakang = 'Justin', 'Timberlake'\n",
        "print('nama depan:', nama_depan)\n",
        "print('nama belakang:', nama_belakang)\n",
        "\n",
        "a = b = c = 14\n",
        "print(a, b, c)"
      ],
      "execution_count": null,
      "outputs": [
        {
          "output_type": "stream",
          "text": [
            "nama depan: Justin\n",
            "nama belakang: Timberlake\n",
            "14 14 14\n"
          ],
          "name": "stdout"
        }
      ]
    },
    {
      "cell_type": "markdown",
      "metadata": {
        "id": "x-4sp3Hvh9ee"
      },
      "source": [
        "### Merubah Variabel"
      ]
    },
    {
      "cell_type": "code",
      "metadata": {
        "colab": {
          "base_uri": "https://localhost:8080/"
        },
        "id": "IUjaDo5YY3t2",
        "outputId": "912a9b0d-c865-40f5-9c2b-ba8a6162ef07"
      },
      "source": [
        "umur = 30\n",
        "print('umur', umur)\n",
        "\n",
        "umur = 31\n",
        "print('umur baru', umur)"
      ],
      "execution_count": null,
      "outputs": [
        {
          "output_type": "stream",
          "text": [
            "umur 30\n",
            "umur baru 31\n"
          ],
          "name": "stdout"
        }
      ]
    },
    {
      "cell_type": "markdown",
      "metadata": {
        "id": "ckgFbocFiBVa"
      },
      "source": [
        "### Menghapus Variabel"
      ]
    },
    {
      "cell_type": "code",
      "metadata": {
        "colab": {
          "base_uri": "https://localhost:8080/",
          "height": 220
        },
        "id": "wx86VGpOZI7k",
        "outputId": "db578ada-22ef-4115-b7a8-4245af789d1f"
      },
      "source": [
        "tinggi_badan = 165\n",
        "print('tinggi badan', tinggi_badan)\n",
        "\n",
        "del(tinggi_badan)\n",
        "\n",
        "# Print tinggi badan disini akan menghasilkan error\n",
        "# karena variabel tinggi badan sebelumnya sudah dihapus\n",
        "print('tinggi_badan', tinggi_badan)"
      ],
      "execution_count": null,
      "outputs": [
        {
          "output_type": "stream",
          "text": [
            "tinggi badan 165\n"
          ],
          "name": "stdout"
        },
        {
          "output_type": "error",
          "ename": "NameError",
          "evalue": "ignored",
          "traceback": [
            "\u001b[0;31m---------------------------------------------------------------------------\u001b[0m",
            "\u001b[0;31mNameError\u001b[0m                                 Traceback (most recent call last)",
            "\u001b[0;32m<ipython-input-38-feeab1df072d>\u001b[0m in \u001b[0;36m<module>\u001b[0;34m()\u001b[0m\n\u001b[1;32m      6\u001b[0m \u001b[0;31m# Print tinggi badan disini akan menghasilkan error\u001b[0m\u001b[0;34m\u001b[0m\u001b[0;34m\u001b[0m\u001b[0;34m\u001b[0m\u001b[0m\n\u001b[1;32m      7\u001b[0m \u001b[0;31m# karena variabel tinggi badan sebelumnya sudah dihapus\u001b[0m\u001b[0;34m\u001b[0m\u001b[0;34m\u001b[0m\u001b[0;34m\u001b[0m\u001b[0m\n\u001b[0;32m----> 8\u001b[0;31m \u001b[0mprint\u001b[0m\u001b[0;34m(\u001b[0m\u001b[0;34m'tinggi_badan'\u001b[0m\u001b[0;34m,\u001b[0m \u001b[0mtinggi_badan\u001b[0m\u001b[0;34m)\u001b[0m\u001b[0;34m\u001b[0m\u001b[0;34m\u001b[0m\u001b[0m\n\u001b[0m",
            "\u001b[0;31mNameError\u001b[0m: name 'tinggi_badan' is not defined"
          ]
        }
      ]
    },
    {
      "cell_type": "markdown",
      "metadata": {
        "id": "-y5QdsFCiEVa"
      },
      "source": [
        "## Tipe Data dari Variabel"
      ]
    },
    {
      "cell_type": "markdown",
      "metadata": {
        "id": "XWWgvRmBiNd-"
      },
      "source": [
        "### Tipe Data Angka"
      ]
    },
    {
      "cell_type": "code",
      "metadata": {
        "colab": {
          "base_uri": "https://localhost:8080/"
        },
        "id": "hqKp60zOjeH7",
        "outputId": "e1486d25-b560-45a4-85db-40fe0d8539d9"
      },
      "source": [
        "# Tipe data integer, bilangan bulat\n",
        "harga = 1100000\n",
        "print('harga:', harga)\n",
        "print('tipe data var harga:', type(harga))\n",
        "\n",
        "# Tipe data float, bilangan desimal\n",
        "diskon = 10.5\n",
        "print('diskon:', diskon)\n",
        "print('tipe data var diskon:', type(diskon))\n",
        "\n",
        "# Variasi penulisan angka dengan pemisah ribuan\n",
        "harga = 1_100_000\n",
        "print('harga:', harga)\n",
        "\n",
        "# Notasi exponential\n",
        "n = 1e5  # 1 x 10 pangkat 5\n",
        "print('n:', n)"
      ],
      "execution_count": null,
      "outputs": [
        {
          "output_type": "stream",
          "text": [
            "harga: 1100000\n",
            "tipe data var harga: <class 'int'>\n",
            "diskon: 10.5\n",
            "tipe data var diskon: <class 'float'>\n",
            "harga: 1100000\n",
            "n: 100000.0\n"
          ],
          "name": "stdout"
        }
      ]
    },
    {
      "cell_type": "markdown",
      "metadata": {
        "id": "Tu9l-0gLiP6C"
      },
      "source": [
        "### Tipe Data Teks"
      ]
    },
    {
      "cell_type": "code",
      "metadata": {
        "colab": {
          "base_uri": "https://localhost:8080/"
        },
        "id": "bZS2M3aAi9tE",
        "outputId": "1c39915b-6354-4d7e-9259-4925402bcae3"
      },
      "source": [
        "# Tipe data teks dibagi dua:\n",
        "\n",
        "# Pertama Char, Karakter. Contoh 'A'\n",
        "jenis_kelamin = 'P'\n",
        "print('jenis kelamin:', jenis_kelamin)\n",
        "print('tipe data var jenis_kelamin:', type(jenis_kelamin))\n",
        "\n",
        "# Kedua String, Kumpulan karakter. Contoh 'Belajar koding'\n",
        "tempat_tinggal = 'Bekasi'\n",
        "print('tempat_tinggal:', tempat_tinggal)\n",
        "print('tipe data var tempat_tinggal:', type(tempat_tinggal))"
      ],
      "execution_count": null,
      "outputs": [
        {
          "output_type": "stream",
          "text": [
            "jenis kelamin: P\n",
            "tipe data var jenis_kelamin: <class 'str'>\n",
            "tempat_tinggal: Bekasi\n",
            "tipe data var tempat_tinggal: <class 'str'>\n"
          ],
          "name": "stdout"
        }
      ]
    },
    {
      "cell_type": "markdown",
      "metadata": {
        "id": "O5I8-yWoiR6-"
      },
      "source": [
        "### Tipe Data Float"
      ]
    },
    {
      "cell_type": "code",
      "metadata": {
        "id": "gwOvL-HicFRA"
      },
      "source": [
        "pi = 3.14159\n",
        "print('pi:', pi)\n",
        "print('tipe data pi:', type(pi))"
      ],
      "execution_count": null,
      "outputs": []
    },
    {
      "cell_type": "markdown",
      "metadata": {
        "id": "E68XyMP1iVBy"
      },
      "source": [
        "### Tipe Data Boolean\n",
        "\n",
        "Data yang hanya memiliki dua nilai True atau False"
      ]
    },
    {
      "cell_type": "code",
      "metadata": {
        "id": "TgrHlk-ocWwo"
      },
      "source": [
        "lulus = True\n",
        "print('lulus', lulus)\n",
        "print('tipe data var lulus', type(lulus))"
      ],
      "execution_count": null,
      "outputs": []
    },
    {
      "cell_type": "markdown",
      "metadata": {
        "id": "9DzxoOr3icbM"
      },
      "source": [
        "### Tipe Data Lainnya"
      ]
    },
    {
      "cell_type": "code",
      "metadata": {
        "colab": {
          "base_uri": "https://localhost:8080/"
        },
        "id": "GZeV5dEghtlk",
        "outputId": "5c45cde9-f98b-4c50-f226-e7039d66e01b"
      },
      "source": [
        "z = 3.14 + 0j\n",
        "print('z', z)\n",
        "print('tipe data var z:', type(z))\n",
        "\n",
        "# Dan tipe data lainnya, akan dibahas diepisode selanjutnya."
      ],
      "execution_count": null,
      "outputs": [
        {
          "output_type": "stream",
          "text": [
            "z (3.14+0j)\n",
            "tipe data var z: <class 'complex'>\n"
          ],
          "name": "stdout"
        }
      ]
    },
    {
      "cell_type": "markdown",
      "metadata": {
        "id": "yUZbBSJhkPfk"
      },
      "source": [
        "## Aturan Nama Variabel Pada Python"
      ]
    },
    {
      "cell_type": "code",
      "metadata": {
        "colab": {
          "base_uri": "https://localhost:8080/"
        },
        "id": "g28P4HdXeVmV",
        "outputId": "8f15314a-6d89-4687-e56b-daa12757881b"
      },
      "source": [
        "# Nama variabel yang diperbolehkan\n",
        "# (A-Z, a-z), digits (0-9), dan karakter underscore (_)\n",
        "\n",
        "# Huruf kecil\n",
        "nama = 'Justin'\n",
        "\n",
        "# Perpaduan dengan angka\n",
        "lulus_kelas7 = True\n",
        "\n",
        "# Huruf besar\n",
        "Umur = 15\n",
        "\n",
        "# Kombinasi huruf besar dan huruf kecil\n",
        "nama_SMP = 'SMP 1 Bali'\n",
        "\n",
        "# Penyambung dengan garis bawah/underscore (Snake Case)\n",
        "nama_depan = 'Justin'\n",
        "\n",
        "# Camel Case, kata kedua dan selanjutnya huruf besar\n",
        "nomorUjian = 1531\n",
        "\n",
        "# Pascal Case, Semua huruf pertamanya besar\n",
        "NomorUjian = 1531\n",
        "\n",
        "# Python 3 memperbolehkan karakter unicode sebagai nama varibel\n",
        "# Tapi untuk penggunaan standar/pemula tidak disarankan.\n",
        "β = 100\n",
        "print('β', β)"
      ],
      "execution_count": null,
      "outputs": [
        {
          "output_type": "stream",
          "text": [
            "β 100\n"
          ],
          "name": "stdout"
        }
      ]
    },
    {
      "cell_type": "markdown",
      "metadata": {
        "id": "06VTDlWrftch"
      },
      "source": [
        "Cara penamaan variabel dipython sekalipun bebas tetap ada kekhususan tertentu. Ini bertujuan untuk mempermudah kita membaca kode program.\n",
        "\n",
        "Untuk saat ini, gunakan huruf kecil saja dan kombinasi menggunakan garis bawah `_` (Snake Case)."
      ]
    },
    {
      "cell_type": "code",
      "metadata": {
        "id": "aT5gkGH7gk5T",
        "colab": {
          "base_uri": "https://localhost:8080/",
          "height": 132
        },
        "outputId": "9cc9693d-35e1-4221-9458-5f0bfdd312c7"
      },
      "source": [
        "# Nama variabel yang dimulai dengan angka tidak bisa digunakan\n",
        "\n",
        "5pa = 5"
      ],
      "execution_count": 49,
      "outputs": [
        {
          "output_type": "error",
          "ename": "SyntaxError",
          "evalue": "ignored",
          "traceback": [
            "\u001b[0;36m  File \u001b[0;32m\"<ipython-input-49-0dd999f3d2c3>\"\u001b[0;36m, line \u001b[0;32m3\u001b[0m\n\u001b[0;31m    5pa = 5\u001b[0m\n\u001b[0m      ^\u001b[0m\n\u001b[0;31mSyntaxError\u001b[0m\u001b[0;31m:\u001b[0m invalid syntax\n"
          ]
        }
      ]
    }
  ]
}